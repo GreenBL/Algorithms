{
 "cells": [
  {
   "cell_type": "markdown",
   "metadata": {},
   "source": [
    "# Binary search\n",
    "Cerca un elemento *v* in un array ordinato *S* di dimensione n."
   ]
  },
  {
   "cell_type": "code",
   "execution_count": 2,
   "metadata": {},
   "outputs": [],
   "source": [
    "def binarySearch(S, value, first, last):\n",
    "    if first > last:\n",
    "        return 0\n",
    "    \n",
    "    half = int((first + last)/2)\n",
    "    print('half is element:' + str(S[half]))\n",
    "\n",
    "    if S[half] == value:\n",
    "        return half\n",
    "    \n",
    "    elif S[half] > value:\n",
    "        return binarySearch(S, value, first, half - 1)\n",
    "    else:\n",
    "        return binarySearch(S, value, half + 1, last)   "
   ]
  },
  {
   "cell_type": "markdown",
   "metadata": {},
   "source": [
    "Se l'indice del primo è maggiore dell'indice dell'ultimo, termina l'esecuzione dello stack\n",
    "Dopodiché calcola all'incirca il punto 'medio' dell'array. Se l'elemento in questo punto corrisponde all'elemento cercato termina e restituisci l'indice.\n",
    "\n",
    "Poi confrontiamo se l'elemento in mezzo è più grande o più piccolo del valore cercato. Dipendemente dai casi guardiamo a destra o a sinistra, passando\n",
    "un nuovo array ridimensionato per argomento alla funzione stessa."
   ]
  },
  {
   "cell_type": "markdown",
   "metadata": {},
   "source": [
    "1:\n",
    "| 1 | 2 | 3 | 4 | 5 | 6 | 7 | 8 | 9 | 10 |\n",
    "| :-: | :-: | :-: | :-: | :-: | :-: | :-: | :-: | :-: | :-: |\n",
    "\n",
    "2: 10 > 5 -->\n",
    "\n",
    "| 1 | 2 | 3 | 4 | <span style=\"color: green;\">5</span> | <span style=\"color: red;\">6</span> | <span style=\"color: red;\">7</span> | <span style=\"color: red;\">8</span> | <span style=\"color: red;\">9</span> | <span style=\"color: red;\">10</span> |\n",
    "| :-: | :-: | :-: | :-: | :-: | :-: | :-: | :-: | :-: | :-: |\n",
    "\n",
    "3: 10 > 8 -->\n",
    "\n",
    "\n",
    "| 1 | 2 | 3 | 4 | 5 | 6 | 7 | <span style=\"color: green;\">8</span> | <span style=\"color: red;\">9</span> | <span style=\"color: red;\">10</span> |\n",
    "| :-: | :-: | :-: | :-: | :-: | :-: | :-: | :-: | :-: | :-: |\n",
    "\n",
    "4: 10 > 9 -->\n",
    "\n",
    "\n",
    "| 1 | 2 | 3 | 4 | 5 | 6 | 7 | 8 | <span style=\"color: green;\">9</span> | <span style=\"color: red;\">10</span> |\n",
    "| :-: | :-: | :-: | :-: | :-: | :-: | :-: | :-: | :-: | :-: |\n",
    "\n",
    "5: |S[HALF] == VALUE| END\n",
    "\n",
    "\n",
    "| 1 | 2 | 3 | 4 | 5 | 6 | 7 | 8 | 9 | <span style=\"color: red;\">10</span> |\n",
    "| :-: | :-: | :-: | :-: | :-: | :-: | :-: | :-: | :-: | :-: |"
   ]
  },
  {
   "cell_type": "code",
   "execution_count": 5,
   "metadata": {},
   "outputs": [
    {
     "name": "stdout",
     "output_type": "stream",
     "text": [
      "half is element:5\n",
      "half is element:8\n",
      "half is element:9\n",
      "half is element:10\n",
      "found value at index: 9\n"
     ]
    }
   ],
   "source": [
    "my_list = [1, 2, 3, 4, 5, 6, 7, 8, 9, 10]\n",
    "VALUE_TO_SEARCH = 10\n",
    "STARTING_INDEX = 0\n",
    "LAST_INDEX = len(my_list) - 1\n",
    "FOUND_VALUE = binarySearch(my_list, VALUE_TO_SEARCH, STARTING_INDEX, LAST_INDEX)\n",
    "\n",
    "print('found value at index: ' + str(FOUND_VALUE))"
   ]
  }
 ],
 "metadata": {
  "kernelspec": {
   "display_name": "Python 3",
   "language": "python",
   "name": "python3"
  },
  "language_info": {
   "codemirror_mode": {
    "name": "ipython",
    "version": 3
   },
   "file_extension": ".py",
   "mimetype": "text/x-python",
   "name": "python",
   "nbconvert_exporter": "python",
   "pygments_lexer": "ipython3",
   "version": "3.10.11"
  }
 },
 "nbformat": 4,
 "nbformat_minor": 2
}
