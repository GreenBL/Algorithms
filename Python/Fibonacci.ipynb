{
 "cells": [
  {
   "cell_type": "markdown",
   "metadata": {},
   "source": [
    "## Calcolo numero di Fibonacci (Ricorsivo)"
   ]
  },
  {
   "cell_type": "code",
   "execution_count": 2,
   "metadata": {},
   "outputs": [],
   "source": [
    "def fibonacci(integer):\n",
    "    if integer <= 2:\n",
    "        return 1\n",
    "    else:\n",
    "        return fibonacci(integer - 1) + fibonacci(integer - 2)"
   ]
  },
  {
   "cell_type": "markdown",
   "metadata": {},
   "source": [
    "I numeri di fibonacci sono composti dalla somma dei due numeri che li precedono."
   ]
  },
  {
   "cell_type": "code",
   "execution_count": 3,
   "metadata": {},
   "outputs": [
    {
     "name": "stdout",
     "output_type": "stream",
     "text": [
      "1\n",
      "2\n",
      "3\n",
      "5\n",
      "8\n",
      "75025\n"
     ]
    }
   ],
   "source": [
    "print(fibonacci(2))\n",
    "print(fibonacci(3))\n",
    "print(fibonacci(4))\n",
    "print(fibonacci(5))\n",
    "print(fibonacci(6))\n",
    "# . . .\n",
    "print(fibonacci(25))\n",
    "\n"
   ]
  },
  {
   "cell_type": "markdown",
   "metadata": {},
   "source": [
    "Il tempo di esecuzione è $O(x^2)$ (time complexity)\n",
    "Space complexity $O(n)$\n",
    "\n",
    "Invece un algoritmo più veloce è il seguente, con tempo di esecuzione $O(\\log n)$ e space complexity $O(\\log n)$"
   ]
  },
  {
   "cell_type": "code",
   "execution_count": null,
   "metadata": {},
   "outputs": [],
   "source": [
    "def quickFibonacci(n):\n",
    "    M = [[1, 0], [0, 1]]\n",
    "    matrixPow(M, n - 1)\n",
    "    return M[0][0]\n",
    "\n",
    "# Non funziona btw perché non è implementata matrix pow"
   ]
  }
 ],
 "metadata": {
  "kernelspec": {
   "display_name": "Python 3",
   "language": "python",
   "name": "python3"
  },
  "language_info": {
   "codemirror_mode": {
    "name": "ipython",
    "version": 3
   },
   "file_extension": ".py",
   "mimetype": "text/x-python",
   "name": "python",
   "nbconvert_exporter": "python",
   "pygments_lexer": "ipython3",
   "version": "3.9.6"
  }
 },
 "nbformat": 4,
 "nbformat_minor": 2
}
